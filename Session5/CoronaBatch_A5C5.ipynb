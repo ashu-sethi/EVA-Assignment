{
  "nbformat": 4,
  "nbformat_minor": 0,
  "metadata": {
    "colab": {
      "name": "CoronaBatch-A5C5.ipynb",
      "provenance": [],
      "collapsed_sections": [],
      "authorship_tag": "ABX9TyP4oTM3XYmZr/vmbdH2+ZSd",
      "include_colab_link": true
    },
    "kernelspec": {
      "name": "python3",
      "display_name": "Python 3"
    },
    "accelerator": "GPU"
  },
  "cells": [
    {
      "cell_type": "markdown",
      "metadata": {
        "id": "view-in-github",
        "colab_type": "text"
      },
      "source": [
        "<a href=\"https://colab.research.google.com/github/Leothorn/EVA4/blob/master/Assignment5/CoronaBatch_A5C5.ipynb\" target=\"_parent\"><img src=\"https://colab.research.google.com/assets/colab-badge.svg\" alt=\"Open In Colab\"/></a>"
      ]
    },
    {
      "cell_type": "code",
      "metadata": {
        "id": "WPo4nBYDBV2j",
        "colab_type": "code",
        "colab": {}
      },
      "source": [
        "# Target : \n",
        "# 99.4% (this must be consistently shown in your last few epochs, and not a one-time achievement)\n",
        "# Less than or equal to 15 Epochs\n",
        "# Less than 10000 Parameters\n",
        "\n",
        "# Use LR Scheduler to achieve consistent accuracy above 99.4\n",
        "\n",
        "# Result :\n",
        "# Parameters: 9,994 Parameters\n",
        "# Best Train Accuracy: 98.52 (epoch 13)\n",
        "# Best Test Accuracy: 99.47 (epoch 11)\n",
        "\n",
        "\n",
        "# Analysis : Changed Batchsize back to 128 with no loss of accuracy \n",
        "#            Used LR of 0.05 with gamma = 0.1 and step size of 6 \n",
        "#            Acheived 99.4 accuracy conssitently from Epoch 7 . \n",
        "\n",
        "# A5C5.jpg is the relevent dig for receptive field"
      ],
      "execution_count": 0,
      "outputs": []
    },
    {
      "cell_type": "markdown",
      "metadata": {
        "id": "-7quIjrUcBci",
        "colab_type": "text"
      },
      "source": [
        "![image.png](data:image/png;base64,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)"
      ]
    },
    {
      "cell_type": "code",
      "metadata": {
        "id": "rXd2lknzCBfg",
        "colab_type": "code",
        "colab": {}
      },
      "source": [
        "# The gods\n",
        "from __future__ import print_function\n",
        "import torch\n",
        "import torch.nn as nn\n",
        "import torch.nn.functional as F\n",
        "import torch.optim as optim\n",
        "from torchvision import datasets, transforms"
      ],
      "execution_count": 0,
      "outputs": []
    },
    {
      "cell_type": "code",
      "metadata": {
        "id": "xEjDB3frObp9",
        "colab_type": "code",
        "colab": {}
      },
      "source": [
        "# Train Phase transformations\n",
        "train_transforms = transforms.Compose([\n",
        "                                      #  transforms.Resize((28, 28)),\n",
        "                                       transforms.RandomRotation((-6.2, 6.2), fill=(1,)),\n",
        "                                       transforms.ToTensor(),\n",
        "                                       transforms.Normalize((0.1307,), (0.3081,)) # The mean and std have to be sequences (e.g., tuples), therefore you should add a comma after the values. \n",
        "                                       # Note the difference between (0.1307) and (0.1307,)\n",
        "                                       ])\n",
        "\n",
        "# Test Phase transformations\n",
        "test_transforms = transforms.Compose([\n",
        "                                      #  transforms.Resize((28, 28)),\n",
        "                                      #  transforms.ColorJitter(brightness=0.10, contrast=0.1, saturation=0.10, hue=0.1),\n",
        "                                       transforms.ToTensor(),\n",
        "                                       transforms.Normalize((0.1307,), (0.3081,))\n",
        "                                       ])"
      ],
      "execution_count": 0,
      "outputs": []
    },
    {
      "cell_type": "code",
      "metadata": {
        "id": "eIhaUjWkOmMx",
        "colab_type": "code",
        "colab": {}
      },
      "source": [
        "train = datasets.MNIST('./data', train=True, download=True, transform=train_transforms)\n",
        "test = datasets.MNIST('./data', train=False, download=True, transform=test_transforms)"
      ],
      "execution_count": 0,
      "outputs": []
    },
    {
      "cell_type": "code",
      "metadata": {
        "id": "1QT0I10AOppM",
        "colab_type": "code",
        "outputId": "c6c63bcf-c85f-4727-ee4d-7b31ddb65bf0",
        "colab": {
          "base_uri": "https://localhost:8080/",
          "height": 34
        }
      },
      "source": [
        "SEED = 1\n",
        "\n",
        "# CUDA?\n",
        "cuda = torch.cuda.is_available()\n",
        "print(\"CUDA Available?\", cuda)\n",
        "\n",
        "# For reproducibility\n",
        "torch.manual_seed(SEED)\n",
        "\n",
        "if cuda:\n",
        "    torch.cuda.manual_seed(SEED)\n",
        "\n",
        "# dataloader arguments - something you'll fetch these from cmdprmt\n",
        "dataloader_args = dict(shuffle=True, batch_size=128, num_workers=4, pin_memory=True) if cuda else dict(shuffle=True, batch_size=64)\n",
        "\n",
        "# train dataloader\n",
        "train_loader = torch.utils.data.DataLoader(train, **dataloader_args)\n",
        "\n",
        "# test dataloader\n",
        "test_loader = torch.utils.data.DataLoader(test, **dataloader_args)"
      ],
      "execution_count": 55,
      "outputs": [
        {
          "output_type": "stream",
          "text": [
            "CUDA Available? True\n"
          ],
          "name": "stdout"
        }
      ]
    },
    {
      "cell_type": "code",
      "metadata": {
        "id": "O3y5nwwzOy9z",
        "colab_type": "code",
        "colab": {}
      },
      "source": [
        "dropout = 0.09\n",
        "class Net(nn.Module):\n",
        "    def __init__(self):\n",
        "        super(Net, self).__init__()\n",
        "        self.conv1 = nn.Sequential(nn.Conv2d(1, 10, 3,bias=False),\n",
        "                                   nn.ReLU(),\n",
        "                                   nn.BatchNorm2d(10),\n",
        "                                   nn.Dropout2d(dropout),\n",
        "                                   \n",
        "                                   nn.Conv2d(10, 20, 3,bias=False),\n",
        "                                   nn.ReLU(),\n",
        "                                   nn.BatchNorm2d(20),\n",
        "                                   nn.Dropout2d(dropout),\n",
        "\n",
        "                                   nn.Conv2d(20, 10, 1,bias=False),\n",
        "\n",
        "                                   nn.MaxPool2d(2, 2),\n",
        "\n",
        "                                   nn.Conv2d(10, 20, 3,bias=False),\n",
        "                                   nn.ReLU(),\n",
        "                                   nn.BatchNorm2d(20),\n",
        "                                   nn.Dropout2d(dropout),\n",
        "\n",
        "                                   nn.Conv2d(20, 16, 3,bias=False),\n",
        "                                   nn.ReLU(),\n",
        "                                   nn.BatchNorm2d(16),\n",
        "                                   nn.Dropout2d(dropout),\n",
        "                                   \n",
        "                                   nn.Conv2d(16, 10, 3,bias=False),\n",
        "                                   nn.ReLU(),\n",
        "                                   nn.BatchNorm2d(10),\n",
        "                                   nn.Dropout2d(dropout),\n",
        "\n",
        "                                   nn.Conv2d(10, 16, 3,padding =1,bias=False),\n",
        "                                   nn.ReLU(),\n",
        "                                   nn.BatchNorm2d(16),\n",
        "                                   nn.Dropout2d(dropout),\n",
        "                                   \n",
        "                                   nn.AvgPool2d(kernel_size=6),\n",
        "                                   nn.Conv2d(16, 10, 1,bias=False))\n",
        "\n",
        "    def forward(self, x):\n",
        "        x = self.conv1(x)\n",
        "        x = x.view(-1, 10)\n",
        "        return F.log_softmax(x)"
      ],
      "execution_count": 0,
      "outputs": []
    },
    {
      "cell_type": "code",
      "metadata": {
        "id": "Yn6HKyYdPEIS",
        "colab_type": "code",
        "outputId": "cc11e387-7673-4a09-84c4-cc52868257ce",
        "colab": {
          "base_uri": "https://localhost:8080/",
          "height": 811
        }
      },
      "source": [
        "!pip install torchsummary\n",
        "from torchsummary import summary\n",
        "use_cuda = torch.cuda.is_available()\n",
        "device = torch.device(\"cuda\" if use_cuda else \"cpu\")\n",
        "print(device)\n",
        "model = Net().to(device)\n",
        "summary(model, input_size=(1, 28, 28))"
      ],
      "execution_count": 57,
      "outputs": [
        {
          "output_type": "stream",
          "text": [
            "Requirement already satisfied: torchsummary in /usr/local/lib/python3.6/dist-packages (1.5.1)\n",
            "cuda\n",
            "----------------------------------------------------------------\n",
            "        Layer (type)               Output Shape         Param #\n",
            "================================================================\n",
            "            Conv2d-1           [-1, 10, 26, 26]              90\n",
            "              ReLU-2           [-1, 10, 26, 26]               0\n",
            "       BatchNorm2d-3           [-1, 10, 26, 26]              20\n",
            "         Dropout2d-4           [-1, 10, 26, 26]               0\n",
            "            Conv2d-5           [-1, 20, 24, 24]           1,800\n",
            "              ReLU-6           [-1, 20, 24, 24]               0\n",
            "       BatchNorm2d-7           [-1, 20, 24, 24]              40\n",
            "         Dropout2d-8           [-1, 20, 24, 24]               0\n",
            "            Conv2d-9           [-1, 10, 24, 24]             200\n",
            "        MaxPool2d-10           [-1, 10, 12, 12]               0\n",
            "           Conv2d-11           [-1, 20, 10, 10]           1,800\n",
            "             ReLU-12           [-1, 20, 10, 10]               0\n",
            "      BatchNorm2d-13           [-1, 20, 10, 10]              40\n",
            "        Dropout2d-14           [-1, 20, 10, 10]               0\n",
            "           Conv2d-15             [-1, 16, 8, 8]           2,880\n",
            "             ReLU-16             [-1, 16, 8, 8]               0\n",
            "      BatchNorm2d-17             [-1, 16, 8, 8]              32\n",
            "        Dropout2d-18             [-1, 16, 8, 8]               0\n",
            "           Conv2d-19             [-1, 10, 6, 6]           1,440\n",
            "             ReLU-20             [-1, 10, 6, 6]               0\n",
            "      BatchNorm2d-21             [-1, 10, 6, 6]              20\n",
            "        Dropout2d-22             [-1, 10, 6, 6]               0\n",
            "           Conv2d-23             [-1, 16, 6, 6]           1,440\n",
            "             ReLU-24             [-1, 16, 6, 6]               0\n",
            "      BatchNorm2d-25             [-1, 16, 6, 6]              32\n",
            "        Dropout2d-26             [-1, 16, 6, 6]               0\n",
            "        AvgPool2d-27             [-1, 16, 1, 1]               0\n",
            "           Conv2d-28             [-1, 10, 1, 1]             160\n",
            "================================================================\n",
            "Total params: 9,994\n",
            "Trainable params: 9,994\n",
            "Non-trainable params: 0\n",
            "----------------------------------------------------------------\n",
            "Input size (MB): 0.00\n",
            "Forward/backward pass size (MB): 0.73\n",
            "Params size (MB): 0.04\n",
            "Estimated Total Size (MB): 0.77\n",
            "----------------------------------------------------------------\n"
          ],
          "name": "stdout"
        },
        {
          "output_type": "stream",
          "text": [
            "/usr/local/lib/python3.6/dist-packages/ipykernel_launcher.py:45: UserWarning: Implicit dimension choice for log_softmax has been deprecated. Change the call to include dim=X as an argument.\n"
          ],
          "name": "stderr"
        }
      ]
    },
    {
      "cell_type": "code",
      "metadata": {
        "id": "UZFtVd6hPHUB",
        "colab_type": "code",
        "colab": {}
      },
      "source": [
        "from tqdm import tqdm\n",
        "\n",
        "train_losses = []\n",
        "test_losses = []\n",
        "train_acc = []\n",
        "test_acc = []\n",
        "\n",
        "def train(model, device, train_loader, optimizer, epoch):\n",
        "  model.train()\n",
        "  pbar = tqdm(train_loader)\n",
        "  correct = 0\n",
        "  processed = 0\n",
        "  for batch_idx, (data, target) in enumerate(pbar):\n",
        "    # get samples\n",
        "    data, target = data.to(device), target.to(device)\n",
        "\n",
        "    # Init\n",
        "    optimizer.zero_grad()\n",
        "    # In PyTorch, we need to set the gradients to zero before starting to do backpropragation because PyTorch accumulates the gradients on subsequent backward passes. \n",
        "    # Because of this, when you start your training loop, ideally you should zero out the gradients so that you do the parameter update correctly.\n",
        "\n",
        "    # Predict\n",
        "    y_pred = model(data)\n",
        "\n",
        "    # Calculate loss\n",
        "    loss = F.nll_loss(y_pred, target)\n",
        "    train_losses.append(loss)\n",
        "\n",
        "    # Backpropagation\n",
        "    loss.backward()\n",
        "    optimizer.step()\n",
        "\n",
        "    # Update pbar-tqdm\n",
        "    \n",
        "    pred = y_pred.argmax(dim=1, keepdim=True)  # get the index of the max log-probability\n",
        "    correct += pred.eq(target.view_as(pred)).sum().item()\n",
        "    processed += len(data)\n",
        "\n",
        "    pbar.set_description(desc= f'Loss={loss.item()} Batch_id={batch_idx} Accuracy={100*correct/processed:0.2f}')\n",
        "    train_acc.append(100*correct/processed)\n",
        "\n",
        "def test(model, device, test_loader):\n",
        "    model.eval()\n",
        "    test_loss = 0\n",
        "    correct = 0\n",
        "    with torch.no_grad():\n",
        "        for data, target in test_loader:\n",
        "            data, target = data.to(device), target.to(device)\n",
        "            output = model(data)\n",
        "            test_loss += F.nll_loss(output, target, reduction='sum').item()  # sum up batch loss\n",
        "            pred = output.argmax(dim=1, keepdim=True)  # get the index of the max log-probability\n",
        "            correct += pred.eq(target.view_as(pred)).sum().item()\n",
        "\n",
        "    test_loss /= len(test_loader.dataset)\n",
        "    test_losses.append(test_loss)\n",
        "\n",
        "    print('\\nTest set: Average loss: {:.4f}, Accuracy: {}/{} ({:.2f}%)\\n'.format(\n",
        "        test_loss, correct, len(test_loader.dataset),100. * correct / len(test_loader.dataset)))\n",
        "    \n",
        "    test_acc.append(100. * correct / len(test_loader.dataset))"
      ],
      "execution_count": 0,
      "outputs": []
    },
    {
      "cell_type": "code",
      "metadata": {
        "id": "tqsXh2gqPZT0",
        "colab_type": "code",
        "outputId": "28dfb1bb-c66b-49a7-ed33-4da17ded97ec",
        "colab": {
          "base_uri": "https://localhost:8080/",
          "height": 1000
        }
      },
      "source": [
        "from torch.optim.lr_scheduler import StepLR\n",
        "\n",
        "model =  Net().to(device)\n",
        "optimizer = optim.SGD(model.parameters(), lr=0.05, momentum=0.94)\n",
        "scheduler = StepLR(optimizer, step_size=6, gamma=0.1)\n",
        "\n",
        "EPOCHS = 15\n",
        "for epoch in range(EPOCHS):\n",
        "    print(\"EPOCH:\", epoch)\n",
        "    train(model, device, train_loader, optimizer, epoch)\n",
        "    scheduler.step()\n",
        "    test(model, device, test_loader)"
      ],
      "execution_count": 59,
      "outputs": [
        {
          "output_type": "stream",
          "text": [
            "\r  0%|          | 0/469 [00:00<?, ?it/s]"
          ],
          "name": "stderr"
        },
        {
          "output_type": "stream",
          "text": [
            "EPOCH: 0\n"
          ],
          "name": "stdout"
        },
        {
          "output_type": "stream",
          "text": [
            "/usr/local/lib/python3.6/dist-packages/ipykernel_launcher.py:45: UserWarning: Implicit dimension choice for log_softmax has been deprecated. Change the call to include dim=X as an argument.\n",
            "Loss=0.136289581656456 Batch_id=468 Accuracy=86.12: 100%|██████████| 469/469 [00:11<00:00, 39.11it/s]\n",
            "  0%|          | 0/469 [00:00<?, ?it/s]"
          ],
          "name": "stderr"
        },
        {
          "output_type": "stream",
          "text": [
            "\n",
            "Test set: Average loss: 0.0689, Accuracy: 9775/10000 (97.75%)\n",
            "\n",
            "EPOCH: 1\n"
          ],
          "name": "stdout"
        },
        {
          "output_type": "stream",
          "text": [
            "Loss=0.1794053167104721 Batch_id=468 Accuracy=96.04: 100%|██████████| 469/469 [00:11<00:00, 39.58it/s]\n",
            "  0%|          | 0/469 [00:00<?, ?it/s]"
          ],
          "name": "stderr"
        },
        {
          "output_type": "stream",
          "text": [
            "\n",
            "Test set: Average loss: 0.0416, Accuracy: 9863/10000 (98.63%)\n",
            "\n",
            "EPOCH: 2\n"
          ],
          "name": "stdout"
        },
        {
          "output_type": "stream",
          "text": [
            "Loss=0.22943060100078583 Batch_id=468 Accuracy=96.97: 100%|██████████| 469/469 [00:12<00:00, 39.05it/s]\n",
            "  0%|          | 0/469 [00:00<?, ?it/s]"
          ],
          "name": "stderr"
        },
        {
          "output_type": "stream",
          "text": [
            "\n",
            "Test set: Average loss: 0.0299, Accuracy: 9901/10000 (99.01%)\n",
            "\n",
            "EPOCH: 3\n"
          ],
          "name": "stdout"
        },
        {
          "output_type": "stream",
          "text": [
            "Loss=0.08881723135709763 Batch_id=468 Accuracy=97.31: 100%|██████████| 469/469 [00:11<00:00, 39.93it/s]\n",
            "  0%|          | 0/469 [00:00<?, ?it/s]"
          ],
          "name": "stderr"
        },
        {
          "output_type": "stream",
          "text": [
            "\n",
            "Test set: Average loss: 0.0315, Accuracy: 9900/10000 (99.00%)\n",
            "\n",
            "EPOCH: 4\n"
          ],
          "name": "stdout"
        },
        {
          "output_type": "stream",
          "text": [
            "Loss=0.09052727371454239 Batch_id=468 Accuracy=97.55: 100%|██████████| 469/469 [00:11<00:00, 39.75it/s]\n",
            "  0%|          | 0/469 [00:00<?, ?it/s]"
          ],
          "name": "stderr"
        },
        {
          "output_type": "stream",
          "text": [
            "\n",
            "Test set: Average loss: 0.0331, Accuracy: 9896/10000 (98.96%)\n",
            "\n",
            "EPOCH: 5\n"
          ],
          "name": "stdout"
        },
        {
          "output_type": "stream",
          "text": [
            "Loss=0.06669556349515915 Batch_id=468 Accuracy=97.80: 100%|██████████| 469/469 [00:11<00:00, 40.04it/s]\n",
            "  0%|          | 0/469 [00:00<?, ?it/s]"
          ],
          "name": "stderr"
        },
        {
          "output_type": "stream",
          "text": [
            "\n",
            "Test set: Average loss: 0.0262, Accuracy: 9917/10000 (99.17%)\n",
            "\n",
            "EPOCH: 6\n"
          ],
          "name": "stdout"
        },
        {
          "output_type": "stream",
          "text": [
            "Loss=0.07100530713796616 Batch_id=468 Accuracy=98.28: 100%|██████████| 469/469 [00:12<00:00, 38.71it/s]\n",
            "  0%|          | 0/469 [00:00<?, ?it/s]"
          ],
          "name": "stderr"
        },
        {
          "output_type": "stream",
          "text": [
            "\n",
            "Test set: Average loss: 0.0213, Accuracy: 9934/10000 (99.34%)\n",
            "\n",
            "EPOCH: 7\n"
          ],
          "name": "stdout"
        },
        {
          "output_type": "stream",
          "text": [
            "Loss=0.05442491173744202 Batch_id=468 Accuracy=98.38: 100%|██████████| 469/469 [00:11<00:00, 39.89it/s]\n",
            "  0%|          | 0/469 [00:00<?, ?it/s]"
          ],
          "name": "stderr"
        },
        {
          "output_type": "stream",
          "text": [
            "\n",
            "Test set: Average loss: 0.0202, Accuracy: 9941/10000 (99.41%)\n",
            "\n",
            "EPOCH: 8\n"
          ],
          "name": "stdout"
        },
        {
          "output_type": "stream",
          "text": [
            "Loss=0.10057970881462097 Batch_id=468 Accuracy=98.43: 100%|██████████| 469/469 [00:11<00:00, 39.84it/s]\n",
            "  0%|          | 0/469 [00:00<?, ?it/s]"
          ],
          "name": "stderr"
        },
        {
          "output_type": "stream",
          "text": [
            "\n",
            "Test set: Average loss: 0.0210, Accuracy: 9941/10000 (99.41%)\n",
            "\n",
            "EPOCH: 9\n"
          ],
          "name": "stdout"
        },
        {
          "output_type": "stream",
          "text": [
            "Loss=0.028966253623366356 Batch_id=468 Accuracy=98.43: 100%|██████████| 469/469 [00:12<00:00, 38.48it/s]\n",
            "  0%|          | 0/469 [00:00<?, ?it/s]"
          ],
          "name": "stderr"
        },
        {
          "output_type": "stream",
          "text": [
            "\n",
            "Test set: Average loss: 0.0202, Accuracy: 9937/10000 (99.37%)\n",
            "\n",
            "EPOCH: 10\n"
          ],
          "name": "stdout"
        },
        {
          "output_type": "stream",
          "text": [
            "Loss=0.07394073158502579 Batch_id=468 Accuracy=98.39: 100%|██████████| 469/469 [00:11<00:00, 39.29it/s]\n",
            "  0%|          | 0/469 [00:00<?, ?it/s]"
          ],
          "name": "stderr"
        },
        {
          "output_type": "stream",
          "text": [
            "\n",
            "Test set: Average loss: 0.0209, Accuracy: 9938/10000 (99.38%)\n",
            "\n",
            "EPOCH: 11\n"
          ],
          "name": "stdout"
        },
        {
          "output_type": "stream",
          "text": [
            "Loss=0.04815475270152092 Batch_id=468 Accuracy=98.45: 100%|██████████| 469/469 [00:11<00:00, 39.17it/s]\n",
            "  0%|          | 0/469 [00:00<?, ?it/s]"
          ],
          "name": "stderr"
        },
        {
          "output_type": "stream",
          "text": [
            "\n",
            "Test set: Average loss: 0.0198, Accuracy: 9947/10000 (99.47%)\n",
            "\n",
            "EPOCH: 12\n"
          ],
          "name": "stdout"
        },
        {
          "output_type": "stream",
          "text": [
            "Loss=0.08145012706518173 Batch_id=468 Accuracy=98.46: 100%|██████████| 469/469 [00:11<00:00, 39.10it/s]\n",
            "  0%|          | 0/469 [00:00<?, ?it/s]"
          ],
          "name": "stderr"
        },
        {
          "output_type": "stream",
          "text": [
            "\n",
            "Test set: Average loss: 0.0195, Accuracy: 9946/10000 (99.46%)\n",
            "\n",
            "EPOCH: 13\n"
          ],
          "name": "stdout"
        },
        {
          "output_type": "stream",
          "text": [
            "Loss=0.033048104494810104 Batch_id=468 Accuracy=98.52: 100%|██████████| 469/469 [00:11<00:00, 39.80it/s]\n",
            "  0%|          | 0/469 [00:00<?, ?it/s]"
          ],
          "name": "stderr"
        },
        {
          "output_type": "stream",
          "text": [
            "\n",
            "Test set: Average loss: 0.0198, Accuracy: 9944/10000 (99.44%)\n",
            "\n",
            "EPOCH: 14\n"
          ],
          "name": "stdout"
        },
        {
          "output_type": "stream",
          "text": [
            "Loss=0.00765661895275116 Batch_id=468 Accuracy=98.42: 100%|██████████| 469/469 [00:11<00:00, 39.78it/s]\n"
          ],
          "name": "stderr"
        },
        {
          "output_type": "stream",
          "text": [
            "\n",
            "Test set: Average loss: 0.0195, Accuracy: 9944/10000 (99.44%)\n",
            "\n"
          ],
          "name": "stdout"
        }
      ]
    },
    {
      "cell_type": "code",
      "metadata": {
        "id": "gZErKbe6c6ae",
        "colab_type": "code",
        "colab": {
          "base_uri": "https://localhost:8080/",
          "height": 625
        },
        "outputId": "895fb6b8-d10e-4a1b-e3fb-327ea1661c19"
      },
      "source": [
        "%matplotlib inline\n",
        "import matplotlib.pyplot as plt\n",
        "\n",
        "fig, axs = plt.subplots(2,2,figsize=(15,10))\n",
        "axs[0, 0].plot(train_losses)\n",
        "axs[0, 0].set_title(\"Training Loss\")\n",
        "axs[1, 0].plot(train_acc[4000:])\n",
        "axs[1, 0].set_title(\"Training Accuracy\")\n",
        "axs[0, 1].plot(test_losses)\n",
        "axs[0, 1].set_title(\"Test Loss\")\n",
        "axs[1, 1].plot(test_acc)\n",
        "axs[1, 1].set_title(\"Test Accuracy\")"
      ],
      "execution_count": 60,
      "outputs": [
        {
          "output_type": "execute_result",
          "data": {
            "text/plain": [
              "Text(0.5, 1.0, 'Test Accuracy')"
            ]
          },
          "metadata": {
            "tags": []
          },
          "execution_count": 60
        },
        {
          "output_type": "display_data",
          "data": {
            "image/png": "[encoded data removed]",
            "text/plain": [
              "<Figure size 1080x720 with 4 Axes>"
            ]
          },
          "metadata": {
            "tags": [],
            "needs_background": "light"
          }
        }
      ]
    },
    {
      "cell_type": "code",
      "metadata": {
        "id": "FLYJQGJ4c6Uk",
        "colab_type": "code",
        "colab": {}
      },
      "source": [
        ""
      ],
      "execution_count": 0,
      "outputs": []
    }
  ]
}